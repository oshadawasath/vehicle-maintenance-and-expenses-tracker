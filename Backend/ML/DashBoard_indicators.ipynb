{
  "nbformat": 4,
  "nbformat_minor": 0,
  "metadata": {
    "colab": {
      "provenance": []
    },
    "kernelspec": {
      "name": "python3",
      "display_name": "Python 3"
    },
    "language_info": {
      "name": "python"
    }
  },
  "cells": [
    {
      "cell_type": "markdown",
      "source": [
        "Importing Dataset"
      ],
      "metadata": {
        "id": "6SCzpRpxIUji"
      }
    },
    {
      "cell_type": "code",
      "source": [
        "from google.colab import drive\n",
        "drive.mount('/content/drive')"
      ],
      "metadata": {
        "colab": {
          "base_uri": "https://localhost:8080/"
        },
        "id": "ctEejLldFmPX",
        "outputId": "c2e07baf-19b7-44b8-ed3f-b288e4a8acce"
      },
      "execution_count": 31,
      "outputs": [
        {
          "output_type": "stream",
          "name": "stdout",
          "text": [
            "Drive already mounted at /content/drive; to attempt to forcibly remount, call drive.mount(\"/content/drive\", force_remount=True).\n"
          ]
        }
      ]
    },
    {
      "cell_type": "markdown",
      "source": [
        "Importing libraries"
      ],
      "metadata": {
        "id": "R6CucIQqIh--"
      }
    },
    {
      "cell_type": "code",
      "source": [
        "import numpy as np\n",
        "import tensorflow as tf\n",
        "import matplotlib.pyplot as plt"
      ],
      "metadata": {
        "id": "sz01lJNxIlO8"
      },
      "execution_count": 36,
      "outputs": []
    },
    {
      "cell_type": "markdown",
      "source": [
        "Data Preprocessing"
      ],
      "metadata": {
        "id": "qyBj_6h6I0Vi"
      }
    },
    {
      "cell_type": "markdown",
      "source": [
        "Trainng Image preprocssion"
      ],
      "metadata": {
        "id": "isv0ZpiDLIgp"
      }
    },
    {
      "cell_type": "code",
      "source": [
        "training_set = tf.keras.utils.image_dataset_from_directory(\n",
        "    '/content/drive/MyDrive/Dashboard_indicators/Treaning',\n",
        "    labels = 'inferred',\n",
        "    label_mode = 'categorical',\n",
        "    class_names = None,\n",
        "    color_mode='rgb',\n",
        "    batch_size =32,\n",
        "    image_size = (64,64),\n",
        "    shuffle = True,\n",
        "    seed = None,\n",
        "    validation_split= None,\n",
        "    subset = None,\n",
        "    interpolation = 'bilinear',\n",
        "    follow_links = False,\n",
        "    crop_to_aspect_ratio = False\n",
        ")"
      ],
      "metadata": {
        "id": "4MOFBlxuI3TN",
        "colab": {
          "base_uri": "https://localhost:8080/"
        },
        "outputId": "a85d0df1-78ef-453b-9443-ab4ca25d9315"
      },
      "execution_count": 37,
      "outputs": [
        {
          "output_type": "stream",
          "name": "stdout",
          "text": [
            "Found 509 files belonging to 29 classes.\n"
          ]
        }
      ]
    },
    {
      "cell_type": "markdown",
      "source": [
        "Validation Image Preprocessing"
      ],
      "metadata": {
        "id": "RQ6B5ARL4_XA"
      }
    },
    {
      "cell_type": "code",
      "source": [
        "validation_set = tf.keras.utils.image_dataset_from_directory(\n",
        "    '/content/drive/MyDrive/Dashboard_indicators/validation',\n",
        "    labels=\"inferred\",\n",
        "    label_mode=\"categorical\",\n",
        "    class_names=None,\n",
        "    color_mode=\"rgb\",\n",
        "    batch_size=32,\n",
        "    image_size=(64, 64),\n",
        "    shuffle=True,\n",
        "    seed=None,\n",
        "    validation_split=None,\n",
        "    subset=None,\n",
        "    interpolation=\"bilinear\",\n",
        "    follow_links=False,\n",
        "    crop_to_aspect_ratio=False\n",
        ")"
      ],
      "metadata": {
        "colab": {
          "base_uri": "https://localhost:8080/"
        },
        "id": "uURe2V1k5DlM",
        "outputId": "2d5fdb36-db05-40f3-91e6-5bb731b3bc0a"
      },
      "execution_count": 38,
      "outputs": [
        {
          "output_type": "stream",
          "name": "stdout",
          "text": [
            "Found 29 files belonging to 29 classes.\n"
          ]
        }
      ]
    },
    {
      "cell_type": "markdown",
      "source": [
        "Buiding model"
      ],
      "metadata": {
        "id": "NPL_GbCYK38G"
      }
    },
    {
      "cell_type": "code",
      "source": [
        "cnn = tf.keras.models.Sequential()"
      ],
      "metadata": {
        "id": "LCX0EC69K69y"
      },
      "execution_count": 39,
      "outputs": []
    },
    {
      "cell_type": "markdown",
      "source": [
        "Building convolution layer"
      ],
      "metadata": {
        "id": "7JE5hobpLkL2"
      }
    },
    {
      "cell_type": "code",
      "source": [
        "cnn.add(tf.keras.layers.Conv2D(filters=32, kernel_size=3, activation='relu', input_shape=[64,64,3]))\n",
        "cnn.add(tf.keras.layers.Conv2D(filters=32,kernel_size=3, activation='relu',))\n",
        "cnn.add(tf.keras.layers.MaxPool2D(pool_size=2,strides=2))"
      ],
      "metadata": {
        "id": "LB8ZSvliLoTF"
      },
      "execution_count": 40,
      "outputs": []
    },
    {
      "cell_type": "code",
      "source": [
        "cnn.add(tf.keras.layers.Conv2D(filters=64, kernel_size=3, activation='relu'))\n",
        "cnn.add(tf.keras.layers.Conv2D(filters=64, kernel_size=3, activation='relu'))\n",
        "cnn.add(tf.keras.layers.MaxPool2D(pool_size=2,strides=2))"
      ],
      "metadata": {
        "id": "eTHE8ZabM26S"
      },
      "execution_count": 41,
      "outputs": []
    },
    {
      "cell_type": "code",
      "source": [
        "cnn.add(tf.keras.layers.Flatten())"
      ],
      "metadata": {
        "id": "iKkihkKQN0Po"
      },
      "execution_count": 42,
      "outputs": []
    },
    {
      "cell_type": "code",
      "source": [
        "cnn.add(tf.keras.layers.Dense(units=512,activation='relu'))\n",
        "cnn.add(tf.keras.layers.Dense(units=256,activation='relu'))"
      ],
      "metadata": {
        "id": "DoW1PCZMN-eW"
      },
      "execution_count": 43,
      "outputs": []
    },
    {
      "cell_type": "code",
      "source": [
        "cnn.add(tf.keras.layers.Dropout(0.5)) #Droping neuron to avoid oerfitting"
      ],
      "metadata": {
        "id": "Dxw9H-bRCItA"
      },
      "execution_count": 44,
      "outputs": []
    },
    {
      "cell_type": "code",
      "source": [
        "#output Layer\n",
        "cnn.add(tf.keras.layers.Dense(units=29,activation='softmax'))"
      ],
      "metadata": {
        "id": "6dCcR1-AOSkg"
      },
      "execution_count": 45,
      "outputs": []
    },
    {
      "cell_type": "markdown",
      "source": [
        "Compiling and training phase"
      ],
      "metadata": {
        "id": "YRyMscgRZvvt"
      }
    },
    {
      "cell_type": "code",
      "source": [
        "cnn.compile(optimizer='adam',loss='categorical_crossentropy',metrics=['accuracy'])"
      ],
      "metadata": {
        "id": "QfhdRuQ5Z1n6"
      },
      "execution_count": 46,
      "outputs": []
    },
    {
      "cell_type": "code",
      "source": [
        "cnn.summary()"
      ],
      "metadata": {
        "colab": {
          "base_uri": "https://localhost:8080/"
        },
        "id": "rxqOVr0gBBuO",
        "outputId": "ff9700fb-276e-4c97-99e4-f749f4982b2d"
      },
      "execution_count": 47,
      "outputs": [
        {
          "output_type": "stream",
          "name": "stdout",
          "text": [
            "Model: \"sequential_3\"\n",
            "_________________________________________________________________\n",
            " Layer (type)                Output Shape              Param #   \n",
            "=================================================================\n",
            " conv2d_8 (Conv2D)           (None, 62, 62, 32)        896       \n",
            "                                                                 \n",
            " conv2d_9 (Conv2D)           (None, 60, 60, 32)        9248      \n",
            "                                                                 \n",
            " max_pooling2d_4 (MaxPoolin  (None, 30, 30, 32)        0         \n",
            " g2D)                                                            \n",
            "                                                                 \n",
            " conv2d_10 (Conv2D)          (None, 28, 28, 64)        18496     \n",
            "                                                                 \n",
            " conv2d_11 (Conv2D)          (None, 26, 26, 64)        36928     \n",
            "                                                                 \n",
            " max_pooling2d_5 (MaxPoolin  (None, 13, 13, 64)        0         \n",
            " g2D)                                                            \n",
            "                                                                 \n",
            " flatten_2 (Flatten)         (None, 10816)             0         \n",
            "                                                                 \n",
            " dense_6 (Dense)             (None, 512)               5538304   \n",
            "                                                                 \n",
            " dense_7 (Dense)             (None, 256)               131328    \n",
            "                                                                 \n",
            " dropout_2 (Dropout)         (None, 256)               0         \n",
            "                                                                 \n",
            " dense_8 (Dense)             (None, 29)                7453      \n",
            "                                                                 \n",
            "=================================================================\n",
            "Total params: 5742653 (21.91 MB)\n",
            "Trainable params: 5742653 (21.91 MB)\n",
            "Non-trainable params: 0 (0.00 Byte)\n",
            "_________________________________________________________________\n"
          ]
        }
      ]
    },
    {
      "cell_type": "code",
      "source": [
        "training_history = cnn.fit(x=training_set,validation_data=validation_set,epochs=33)"
      ],
      "metadata": {
        "colab": {
          "base_uri": "https://localhost:8080/"
        },
        "id": "NtAouL20a5kP",
        "outputId": "5814e2fd-6b8e-4b3e-fc7c-339340401321"
      },
      "execution_count": 49,
      "outputs": [
        {
          "output_type": "stream",
          "name": "stdout",
          "text": [
            "Epoch 1/33\n",
            "16/16 [==============================] - 9s 485ms/step - loss: 2.9975 - accuracy: 0.2141 - val_loss: 2.5975 - val_accuracy: 0.3793\n",
            "Epoch 2/33\n",
            "16/16 [==============================] - 10s 526ms/step - loss: 1.9220 - accuracy: 0.4597 - val_loss: 1.4897 - val_accuracy: 0.6207\n",
            "Epoch 3/33\n",
            "16/16 [==============================] - 10s 581ms/step - loss: 1.1264 - accuracy: 0.6974 - val_loss: 1.0917 - val_accuracy: 0.7241\n",
            "Epoch 4/33\n",
            "16/16 [==============================] - 9s 510ms/step - loss: 0.6775 - accuracy: 0.8094 - val_loss: 1.1035 - val_accuracy: 0.7931\n",
            "Epoch 5/33\n",
            "16/16 [==============================] - 9s 470ms/step - loss: 0.5011 - accuracy: 0.8703 - val_loss: 0.7762 - val_accuracy: 0.8276\n",
            "Epoch 6/33\n",
            "16/16 [==============================] - 10s 588ms/step - loss: 0.3879 - accuracy: 0.8919 - val_loss: 0.4934 - val_accuracy: 0.8276\n",
            "Epoch 7/33\n",
            "16/16 [==============================] - 10s 562ms/step - loss: 0.2559 - accuracy: 0.9293 - val_loss: 0.5413 - val_accuracy: 0.8276\n",
            "Epoch 8/33\n",
            "16/16 [==============================] - 8s 450ms/step - loss: 0.2472 - accuracy: 0.9312 - val_loss: 0.5864 - val_accuracy: 0.8621\n",
            "Epoch 9/33\n",
            "16/16 [==============================] - 10s 548ms/step - loss: 0.1892 - accuracy: 0.9528 - val_loss: 0.6428 - val_accuracy: 0.8276\n",
            "Epoch 10/33\n",
            "16/16 [==============================] - 10s 557ms/step - loss: 0.0821 - accuracy: 0.9705 - val_loss: 0.3658 - val_accuracy: 0.8966\n",
            "Epoch 11/33\n",
            "16/16 [==============================] - 8s 447ms/step - loss: 0.1098 - accuracy: 0.9607 - val_loss: 0.3982 - val_accuracy: 0.8621\n",
            "Epoch 12/33\n",
            "16/16 [==============================] - 9s 452ms/step - loss: 0.0855 - accuracy: 0.9745 - val_loss: 0.5167 - val_accuracy: 0.8276\n",
            "Epoch 13/33\n",
            "16/16 [==============================] - 10s 549ms/step - loss: 0.0861 - accuracy: 0.9784 - val_loss: 0.3605 - val_accuracy: 0.8966\n",
            "Epoch 14/33\n",
            "16/16 [==============================] - 10s 563ms/step - loss: 0.0701 - accuracy: 0.9843 - val_loss: 1.0081 - val_accuracy: 0.7931\n",
            "Epoch 15/33\n",
            "16/16 [==============================] - 9s 473ms/step - loss: 0.0888 - accuracy: 0.9745 - val_loss: 0.6661 - val_accuracy: 0.8276\n",
            "Epoch 16/33\n",
            "16/16 [==============================] - 9s 454ms/step - loss: 0.0677 - accuracy: 0.9823 - val_loss: 0.5740 - val_accuracy: 0.8621\n",
            "Epoch 17/33\n",
            "16/16 [==============================] - 10s 557ms/step - loss: 0.0919 - accuracy: 0.9804 - val_loss: 0.4198 - val_accuracy: 0.8621\n",
            "Epoch 18/33\n",
            "16/16 [==============================] - 9s 526ms/step - loss: 0.0678 - accuracy: 0.9882 - val_loss: 0.3570 - val_accuracy: 0.8621\n",
            "Epoch 19/33\n",
            "16/16 [==============================] - 8s 459ms/step - loss: 0.0280 - accuracy: 0.9941 - val_loss: 0.6040 - val_accuracy: 0.8276\n",
            "Epoch 20/33\n",
            "16/16 [==============================] - 10s 551ms/step - loss: 0.0322 - accuracy: 0.9882 - val_loss: 0.4323 - val_accuracy: 0.8621\n",
            "Epoch 21/33\n",
            "16/16 [==============================] - 10s 562ms/step - loss: 0.0278 - accuracy: 0.9941 - val_loss: 0.4422 - val_accuracy: 0.8966\n",
            "Epoch 22/33\n",
            "16/16 [==============================] - 8s 459ms/step - loss: 0.0301 - accuracy: 0.9921 - val_loss: 0.3960 - val_accuracy: 0.8966\n",
            "Epoch 23/33\n",
            "16/16 [==============================] - 9s 478ms/step - loss: 0.0327 - accuracy: 0.9862 - val_loss: 0.4091 - val_accuracy: 0.8621\n",
            "Epoch 24/33\n",
            "16/16 [==============================] - 10s 566ms/step - loss: 0.0365 - accuracy: 0.9882 - val_loss: 0.3895 - val_accuracy: 0.8621\n",
            "Epoch 25/33\n",
            "16/16 [==============================] - 9s 527ms/step - loss: 0.0278 - accuracy: 0.9921 - val_loss: 0.6448 - val_accuracy: 0.8276\n",
            "Epoch 26/33\n",
            "16/16 [==============================] - 9s 461ms/step - loss: 0.0483 - accuracy: 0.9902 - val_loss: 0.8219 - val_accuracy: 0.8276\n",
            "Epoch 27/33\n",
            "16/16 [==============================] - 10s 563ms/step - loss: 0.0785 - accuracy: 0.9764 - val_loss: 0.9684 - val_accuracy: 0.8276\n",
            "Epoch 28/33\n",
            "16/16 [==============================] - 12s 725ms/step - loss: 0.0374 - accuracy: 0.9921 - val_loss: 1.1542 - val_accuracy: 0.8276\n",
            "Epoch 29/33\n",
            "16/16 [==============================] - 9s 488ms/step - loss: 0.0223 - accuracy: 0.9941 - val_loss: 1.1114 - val_accuracy: 0.8276\n",
            "Epoch 30/33\n",
            "16/16 [==============================] - 9s 459ms/step - loss: 0.0244 - accuracy: 0.9921 - val_loss: 1.1393 - val_accuracy: 0.8276\n",
            "Epoch 31/33\n",
            "16/16 [==============================] - 10s 558ms/step - loss: 0.0444 - accuracy: 0.9902 - val_loss: 0.8114 - val_accuracy: 0.8276\n",
            "Epoch 32/33\n",
            "16/16 [==============================] - 9s 510ms/step - loss: 0.0285 - accuracy: 0.9921 - val_loss: 0.8730 - val_accuracy: 0.8276\n",
            "Epoch 33/33\n",
            "16/16 [==============================] - 9s 455ms/step - loss: 0.0660 - accuracy: 0.9882 - val_loss: 0.9944 - val_accuracy: 0.8276\n"
          ]
        }
      ]
    },
    {
      "cell_type": "markdown",
      "source": [
        "saving model"
      ],
      "metadata": {
        "id": "fdPyLcZicVTf"
      }
    },
    {
      "cell_type": "code",
      "source": [
        "cnn.save('trained_model.h5')"
      ],
      "metadata": {
        "id": "Uyp6iwvwcX3p"
      },
      "execution_count": 51,
      "outputs": []
    },
    {
      "cell_type": "code",
      "source": [
        "training_history.history"
      ],
      "metadata": {
        "colab": {
          "base_uri": "https://localhost:8080/"
        },
        "id": "LrOiEexJdBgm",
        "outputId": "8bd7a0ee-ff88-41bb-86a9-d9f5e5b33583"
      },
      "execution_count": 52,
      "outputs": [
        {
          "output_type": "execute_result",
          "data": {
            "text/plain": [
              "{'loss': [2.9974708557128906,\n",
              "  1.9219796657562256,\n",
              "  1.126432180404663,\n",
              "  0.6774598360061646,\n",
              "  0.5011022686958313,\n",
              "  0.38792896270751953,\n",
              "  0.2558591365814209,\n",
              "  0.24717947840690613,\n",
              "  0.18921686708927155,\n",
              "  0.0820954293012619,\n",
              "  0.10978806763887405,\n",
              "  0.08547276258468628,\n",
              "  0.08609170466661453,\n",
              "  0.07009636610746384,\n",
              "  0.08878859877586365,\n",
              "  0.06769762188196182,\n",
              "  0.0918714851140976,\n",
              "  0.06776583194732666,\n",
              "  0.027979960665106773,\n",
              "  0.03218185901641846,\n",
              "  0.027839133515954018,\n",
              "  0.030068956315517426,\n",
              "  0.032662902027368546,\n",
              "  0.03649495169520378,\n",
              "  0.027773352339863777,\n",
              "  0.04829072952270508,\n",
              "  0.07852629572153091,\n",
              "  0.037417370826005936,\n",
              "  0.022292228415608406,\n",
              "  0.024362988770008087,\n",
              "  0.044382210820913315,\n",
              "  0.028515810146927834,\n",
              "  0.06601986289024353],\n",
              " 'accuracy': [0.21414537727832794,\n",
              "  0.45972496271133423,\n",
              "  0.6974459886550903,\n",
              "  0.8094302415847778,\n",
              "  0.8703339695930481,\n",
              "  0.8919450044631958,\n",
              "  0.9292730689048767,\n",
              "  0.9312376976013184,\n",
              "  0.9528487324714661,\n",
              "  0.9705304503440857,\n",
              "  0.9607072472572327,\n",
              "  0.974459707736969,\n",
              "  0.9783890247344971,\n",
              "  0.984282910823822,\n",
              "  0.974459707736969,\n",
              "  0.9823182821273804,\n",
              "  0.9803536534309387,\n",
              "  0.9882121682167053,\n",
              "  0.994106113910675,\n",
              "  0.9882121682167053,\n",
              "  0.994106113910675,\n",
              "  0.9921414256095886,\n",
              "  0.9862475395202637,\n",
              "  0.9882121682167053,\n",
              "  0.9921414256095886,\n",
              "  0.990176796913147,\n",
              "  0.9764243364334106,\n",
              "  0.9921414256095886,\n",
              "  0.994106113910675,\n",
              "  0.9921414256095886,\n",
              "  0.990176796913147,\n",
              "  0.9921414256095886,\n",
              "  0.9882121682167053],\n",
              " 'val_loss': [2.5974767208099365,\n",
              "  1.4896657466888428,\n",
              "  1.0917476415634155,\n",
              "  1.1034611463546753,\n",
              "  0.7762442231178284,\n",
              "  0.49339166283607483,\n",
              "  0.5412645936012268,\n",
              "  0.5863602161407471,\n",
              "  0.6428029537200928,\n",
              "  0.3657819926738739,\n",
              "  0.39822229743003845,\n",
              "  0.5167374014854431,\n",
              "  0.36052408814430237,\n",
              "  1.0080866813659668,\n",
              "  0.6660730838775635,\n",
              "  0.573962390422821,\n",
              "  0.4197884798049927,\n",
              "  0.35700365900993347,\n",
              "  0.6039981842041016,\n",
              "  0.4323473274707794,\n",
              "  0.4422306716442108,\n",
              "  0.39600899815559387,\n",
              "  0.40906208753585815,\n",
              "  0.389519065618515,\n",
              "  0.6448182463645935,\n",
              "  0.8219460844993591,\n",
              "  0.9683911800384521,\n",
              "  1.1542302370071411,\n",
              "  1.1114327907562256,\n",
              "  1.1393295526504517,\n",
              "  0.8114060759544373,\n",
              "  0.8729909062385559,\n",
              "  0.9943978786468506],\n",
              " 'val_accuracy': [0.37931033968925476,\n",
              "  0.6206896305084229,\n",
              "  0.7241379022598267,\n",
              "  0.7931034564971924,\n",
              "  0.8275862336158752,\n",
              "  0.8275862336158752,\n",
              "  0.8275862336158752,\n",
              "  0.8620689511299133,\n",
              "  0.8275862336158752,\n",
              "  0.8965517282485962,\n",
              "  0.8620689511299133,\n",
              "  0.8275862336158752,\n",
              "  0.8965517282485962,\n",
              "  0.7931034564971924,\n",
              "  0.8275862336158752,\n",
              "  0.8620689511299133,\n",
              "  0.8620689511299133,\n",
              "  0.8620689511299133,\n",
              "  0.8275862336158752,\n",
              "  0.8620689511299133,\n",
              "  0.8965517282485962,\n",
              "  0.8965517282485962,\n",
              "  0.8620689511299133,\n",
              "  0.8620689511299133,\n",
              "  0.8275862336158752,\n",
              "  0.8275862336158752,\n",
              "  0.8275862336158752,\n",
              "  0.8275862336158752,\n",
              "  0.8275862336158752,\n",
              "  0.8275862336158752,\n",
              "  0.8275862336158752,\n",
              "  0.8275862336158752,\n",
              "  0.8275862336158752]}"
            ]
          },
          "metadata": {},
          "execution_count": 52
        }
      ]
    },
    {
      "cell_type": "code",
      "source": [
        "#recoding history\n",
        "import json\n",
        "with open('training_hist.json','w') as f:\n",
        "  json.dump(training_history.history,f)"
      ],
      "metadata": {
        "id": "JezxR3RCcuIJ"
      },
      "execution_count": 53,
      "outputs": []
    },
    {
      "cell_type": "code",
      "source": [
        "print(training_history.history.keys())"
      ],
      "metadata": {
        "colab": {
          "base_uri": "https://localhost:8080/"
        },
        "id": "2_Nt-7V0dhnu",
        "outputId": "e6646e73-4750-4327-9975-cdf383428829"
      },
      "execution_count": 54,
      "outputs": [
        {
          "output_type": "stream",
          "name": "stdout",
          "text": [
            "dict_keys(['loss', 'accuracy', 'val_loss', 'val_accuracy'])\n"
          ]
        }
      ]
    },
    {
      "cell_type": "markdown",
      "source": [
        "Calculating accuracy of model achived on validation set"
      ],
      "metadata": {
        "id": "-SINvQvnd0cB"
      }
    },
    {
      "cell_type": "code",
      "source": [
        "print(\"Validation set accuracy: {} %\".format(training_history.history['val_accuracy'][-1]*100))"
      ],
      "metadata": {
        "colab": {
          "base_uri": "https://localhost:8080/"
        },
        "id": "O1ZF6_27dvov",
        "outputId": "6c21c782-79f3-4da7-852d-48df906e9667"
      },
      "execution_count": 55,
      "outputs": [
        {
          "output_type": "stream",
          "name": "stdout",
          "text": [
            "Validation set accuracy: 82.75862336158752 %\n"
          ]
        }
      ]
    },
    {
      "cell_type": "markdown",
      "source": [
        "Accuracy Visualization"
      ],
      "metadata": {
        "id": "OZbx7ARdV8He"
      }
    },
    {
      "cell_type": "markdown",
      "source": [
        "Training visualization"
      ],
      "metadata": {
        "id": "7mKYl7_KWAEL"
      }
    },
    {
      "cell_type": "code",
      "source": [
        "epochs = [i for i in range(1,34)]\n",
        "plt.plot(epochs,training_history.history['accuracy'], color='red')\n",
        "plt.xlabel('Epochs')\n",
        "plt.ylabel('Traiining Accuracy')\n",
        "plt.title('Visualization of Training Accuracy Result')\n",
        "plt.show()"
      ],
      "metadata": {
        "colab": {
          "base_uri": "https://localhost:8080/",
          "height": 472
        },
        "id": "if7YG1ZrWDYf",
        "outputId": "d6b9d812-c834-48ef-e8d4-56ec4adb299d"
      },
      "execution_count": 57,
      "outputs": [
        {
          "output_type": "display_data",
          "data": {
            "text/plain": [
              "<Figure size 640x480 with 1 Axes>"
            ],
            "image/png": "[encoded data removed]"
          },
          "metadata": {}
        }
      ]
    },
    {
      "cell_type": "markdown",
      "source": [
        "Validation accuracy"
      ],
      "metadata": {
        "id": "QrqW9mR1bLqF"
      }
    },
    {
      "cell_type": "code",
      "source": [
        "plt.plot(epochs,training_history.history['val_accuracy'],color='blue')\n",
        "plt.xlabel('No. of Epochs')\n",
        "plt.ylabel('Validation Accuracy')\n",
        "plt.title('Visualization of Validation Accuracy Result')\n",
        "plt.show()"
      ],
      "metadata": {
        "colab": {
          "base_uri": "https://localhost:8080/",
          "height": 472
        },
        "id": "4UG9QBF4bPhg",
        "outputId": "b97a4509-5c4b-4d2d-e435-b9e0c6c84867"
      },
      "execution_count": 58,
      "outputs": [
        {
          "output_type": "display_data",
          "data": {
            "text/plain": [
              "<Figure size 640x480 with 1 Axes>"
            ],
            "image/png": "[encoded data removed]"
          },
          "metadata": {}
        }
      ]
    },
    {
      "cell_type": "code",
      "source": [
        "training_loss,traning_accuracy = cnn.evaluate(training_set)"
      ],
      "metadata": {
        "colab": {
          "base_uri": "https://localhost:8080/"
        },
        "id": "5YtPGsYJEn1R",
        "outputId": "4c7ece72-a9a2-4da0-8229-28ef38a91483"
      },
      "execution_count": 59,
      "outputs": [
        {
          "output_type": "stream",
          "name": "stdout",
          "text": [
            "16/16 [==============================] - 3s 133ms/step - loss: 5.8836e-04 - accuracy: 1.0000\n"
          ]
        }
      ]
    },
    {
      "cell_type": "code",
      "source": [
        "traning_accuracy"
      ],
      "metadata": {
        "colab": {
          "base_uri": "https://localhost:8080/"
        },
        "id": "U6Fdi68ZJ4xR",
        "outputId": "42e298d4-817f-46aa-e29f-82b1caa85e83"
      },
      "execution_count": 60,
      "outputs": [
        {
          "output_type": "execute_result",
          "data": {
            "text/plain": [
              "1.0"
            ]
          },
          "metadata": {},
          "execution_count": 60
        }
      ]
    },
    {
      "cell_type": "code",
      "source": [
        "val_loss,val_accuracy,=cnn.evaluate(validation_set)"
      ],
      "metadata": {
        "colab": {
          "base_uri": "https://localhost:8080/"
        },
        "id": "tlBJwpKjG-q8",
        "outputId": "d491af17-3500-4341-98c4-f108e8fc8280"
      },
      "execution_count": 61,
      "outputs": [
        {
          "output_type": "stream",
          "name": "stdout",
          "text": [
            "1/1 [==============================] - 0s 220ms/step - loss: 0.9944 - accuracy: 0.8276\n"
          ]
        }
      ]
    },
    {
      "cell_type": "code",
      "source": [
        "test_set = tf.keras.utils.image_dataset_from_directory(\n",
        "    '/content/drive/MyDrive/Dashboard_indicators/Testing',\n",
        "    labels = 'inferred',\n",
        "    label_mode = 'categorical',\n",
        "    class_names = None,\n",
        "    color_mode='rgb',\n",
        "    batch_size =32,\n",
        "    image_size = (64,64),\n",
        "    shuffle = True,\n",
        "    seed = None,\n",
        "    validation_split= None,\n",
        "    subset = None,\n",
        "    interpolation = 'bilinear',\n",
        "    follow_links = False,\n",
        "    crop_to_aspect_ratio = False\n",
        ")"
      ],
      "metadata": {
        "colab": {
          "base_uri": "https://localhost:8080/"
        },
        "id": "6QunzyHuHM2u",
        "outputId": "8ea1d5b4-de95-4cf2-fe89-43e44e539cb7"
      },
      "execution_count": 63,
      "outputs": [
        {
          "output_type": "stream",
          "name": "stdout",
          "text": [
            "Found 55 files belonging to 29 classes.\n"
          ]
        }
      ]
    },
    {
      "cell_type": "code",
      "source": [
        "test_loss,test_accuracy = cnn.evaluate(test_set)"
      ],
      "metadata": {
        "colab": {
          "base_uri": "https://localhost:8080/"
        },
        "id": "tgyb5y9TIxqN",
        "outputId": "fce0f1f4-db19-458d-d951-e6337c647cca"
      },
      "execution_count": 64,
      "outputs": [
        {
          "output_type": "stream",
          "name": "stdout",
          "text": [
            "2/2 [==============================] - 6s 82ms/step - loss: 7.0198e-06 - accuracy: 1.0000\n"
          ]
        }
      ]
    },
    {
      "cell_type": "code",
      "source": [
        "test_accuracy"
      ],
      "metadata": {
        "id": "WCR7HRdvKBmt",
        "outputId": "c820f41a-1200-4b27-cde9-ccf80bfbb74c",
        "colab": {
          "base_uri": "https://localhost:8080/"
        }
      },
      "execution_count": 65,
      "outputs": [
        {
          "output_type": "execute_result",
          "data": {
            "text/plain": [
              "1.0"
            ]
          },
          "metadata": {},
          "execution_count": 65
        }
      ]
    },
    {
      "cell_type": "code",
      "source": [],
      "metadata": {
        "id": "iHS7JcLgzveW"
      },
      "execution_count": null,
      "outputs": []
    }
  ]
}